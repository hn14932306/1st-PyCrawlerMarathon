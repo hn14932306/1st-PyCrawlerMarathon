{
 "cells": [
  {
   "cell_type": "markdown",
   "metadata": {},
   "source": [
    "# API 資料串接 - 以 Dcard API 實作範例\n",
    "\n",
    "* 了解 Dcard API 使用方式與回傳內容\n",
    "* 撰寫程式存取 API 且解析 JSON 格式資料\n"
   ]
  },
  {
   "cell_type": "markdown",
   "metadata": {},
   "source": [
    "## 作業目標\n",
    "\n",
    "* 請利用 API: https://www.dcard.tw/_api/forums/pet/posts?popular=true 回答下列問題：\n",
    "\n",
    "1. 這個 API 一次會回傳幾筆資料？每一筆資料包含哪些欄位？\n",
    "2. 取出每一筆資料的「標題」、「貼文時間」、「留言人數」、「按讚人數」\n",
    "3. 計算熱門/非熱門文章的「平均留言人數」與「平均按讚人數」"
   ]
  },
  {
   "cell_type": "code",
   "execution_count": 1,
   "metadata": {},
   "outputs": [
    {
     "name": "stdout",
     "output_type": "stream",
     "text": [
      "一次會回傳30筆資料\n"
     ]
    },
    {
     "data": {
      "text/plain": [
       "dict_keys(['id', 'title', 'excerpt', 'anonymousSchool', 'anonymousDepartment', 'pinned', 'forumId', 'replyId', 'createdAt', 'updatedAt', 'commentCount', 'likeCount', 'withNickname', 'tags', 'topics', 'meta', 'forumName', 'forumAlias', 'gender', 'school', 'department', 'replyTitle', 'mediaMeta', 'reactions', 'hidden', 'customStyle', 'isSuspiciousAccount', 'layout', 'withImages', 'withVideos', 'media', 'reportReasonText', 'postAvatar'])"
      ]
     },
     "execution_count": 1,
     "metadata": {},
     "output_type": "execute_result"
    }
   ],
   "source": [
    "# 1. 這個 API 一次會回傳幾筆資料？每一筆資料包含哪些欄位？\n",
    "\n",
    "import requests\n",
    "import json\n",
    "import pandas as pd \n",
    "pop = requests.get('https://www.dcard.tw/_api/forums/pet/posts?popular=true')\n",
    "npop = requests.get('https://www.dcard.tw/_api/forums/pet/posts?popular=false')\n",
    "response_pop = pop.text\n",
    "response_npop = npop.text\n",
    "data_pop = json.loads(response_pop)\n",
    "data_npop = json.loads(response_npop)\n",
    "print(\"一次會回傳%d筆資料\" %len(data_pop))\n",
    "data_pop[0].keys()"
   ]
  },
  {
   "cell_type": "code",
   "execution_count": 8,
   "metadata": {},
   "outputs": [],
   "source": [
    "# 2. 取出每一筆資料的「標題」、「貼文時間」、「留言人數」、「按讚人數」\n",
    "a=pd.DataFrame(columns=['標題','貼文時間','留言人數','按讚人數'])\n",
    "b=pd.DataFrame(columns=['標題','貼文時間','留言人數','按讚人數'])\n",
    "a_count=0\n",
    "for d in data_pop:\n",
    "    a=a.append({\"標題\":d['title'],'貼文時間':d['createdAt'],'留言人數':d['commentCount'],'按讚人數':d['likeCount']},ignore_index=True)\n",
    "for d in data_npop:\n",
    "    b=b.append({\"標題\":d['title'],'貼文時間':d['createdAt'],'留言人數':d['commentCount'],'按讚人數':d['likeCount']},ignore_index=True)"
   ]
  },
  {
   "cell_type": "code",
   "execution_count": 11,
   "metadata": {},
   "outputs": [
    {
     "name": "stdout",
     "output_type": "stream",
     "text": [
      "熱門文章的平均留言人數為3.666667 熱門文章的平均按讚人數為36.566667\n",
      "非熱門文章的平均留言人數為2.000000 非熱門文章的平均按讚人數為6.900000\n"
     ]
    }
   ],
   "source": [
    "# 3. 計算熱門/非熱門文章的「平均留言人數」與「平均按讚人數」\n",
    "print(\"熱門文章的平均留言人數為%f\"%a['留言人數'].mean(),\"熱門文章的平均按讚人數為%f\"%a['按讚人數'].mean())\n",
    "print(\"非熱門文章的平均留言人數為%f\"%b['留言人數'].mean(),\"非熱門文章的平均按讚人數為%f\"%b['按讚人數'].mean())\n",
    "    \n",
    "               "
   ]
  },
  {
   "cell_type": "code",
   "execution_count": null,
   "metadata": {},
   "outputs": [],
   "source": []
  }
 ],
 "metadata": {
  "kernelspec": {
   "display_name": "Python 3",
   "language": "python",
   "name": "python3"
  },
  "language_info": {
   "codemirror_mode": {
    "name": "ipython",
    "version": 3
   },
   "file_extension": ".py",
   "mimetype": "text/x-python",
   "name": "python",
   "nbconvert_exporter": "python",
   "pygments_lexer": "ipython3",
   "version": "3.7.4"
  }
 },
 "nbformat": 4,
 "nbformat_minor": 2
}
