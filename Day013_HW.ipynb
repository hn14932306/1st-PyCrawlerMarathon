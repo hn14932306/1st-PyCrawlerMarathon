{
 "cells": [
  {
   "cell_type": "markdown",
   "metadata": {},
   "source": [
    "# PTT 網路爬蟲實作練習\n",
    "\n",
    "\n",
    "* 能夠利用 Request + BeatifulSour 撰寫爬蟲，並存放到合適的資料結構\n"
   ]
  },
  {
   "cell_type": "markdown",
   "metadata": {},
   "source": [
    "## 作業目標\n",
    "\n",
    "根據範例 ，完成以下問題：\n",
    "\n",
    "* ① 印出最新文章的「作者」「標題」「時間」\n",
    "* ② 印出第一頁所有文章的「作者」「標題」「時間」\n"
   ]
  },
  {
   "cell_type": "markdown",
   "metadata": {},
   "source": [
    "### ① 印出最新文章的「作者」「標題」「時間」"
   ]
  },
  {
   "cell_type": "code",
   "execution_count": 33,
   "metadata": {
    "scrolled": true
   },
   "outputs": [
    {
     "name": "stdout",
     "output_type": "stream",
     "text": [
      "標題:[新聞] 可用之兵多到沒機會 波爾辛吉斯不好受\n",
      "作者:asdf1256 (guest)\n",
      "時間:Sun Dec 22 14:36:56 2019\n",
      "標題:[新聞] 詹姆斯鄙視柯瑞？名球評：他們之間並不\n",
      "作者:fukawa947 (交大薛之謙)\n",
      "時間:Sun Dec 22 15:37:51 2019\n",
      "標題:[情報] 團隊薪資與戰績排行\n",
      "作者:checktime (華哥)\n",
      "時間:Sun Dec 22 15:54:39 2019\n",
      "標題:[討論] 甜瓜在球場外(社會上)真的很罩嗎?\n",
      "作者:takizawahide (Val Valentino)\n",
      "時間:Sun Dec 22 16:03:46 2019\n",
      "標題:[新聞] 曾被視為沈睡的巨人　勇士獲選為十年最佳\n",
      "作者:go190214 (天空之島拉普達)\n",
      "時間:Sun Dec 22 16:07:25 2019\n",
      "標題:[新聞] 生涯新高 波神狂抓18籃板\n",
      "作者:VeryGoodBoy (很棒的男孩)\n",
      "時間:Sun Dec 22 16:19:35 2019\n",
      "標題:Re: [新聞] 詹姆斯鄙視柯瑞？名球評：他們之間並\n",
      "作者:dragon803 (好想去露營啊~)\n",
      "時間:Sun Dec 22 16:27:35 2019\n",
      "標題:Re: [討論] 甜瓜在球場外(社會上)真的很罩嗎?\n",
      "作者:Ensidia (要宅的這麼神是有難度的)\n",
      "時間:Sun Dec 22 16:48:47 2019\n",
      "標題:Re: [花邊] 球迷為冰品辱罵球員　Thomas：太超過\n",
      "作者:lens82801 (開始QQ的見習生)\n",
      "時間:Sun Dec 22 16:52:38 2019\n",
      "標題:Re: [討論] 甜瓜在球場外(社會上)真的很罩嗎?\n",
      "作者:ccrr1234 (ccrr123)\n",
      "時間:Sun Dec 22 16:53:22 2019\n",
      "標題:[花邊] Curry裸照事件上推特熱搜 經紀人堅決否認\n",
      "作者:whoAU (你是誰？)\n",
      "時間:Sun Dec 22 17:26:01 2019\n",
      "標題:[公告] 板規v6.7\n",
      "標題:[公告] 樂透取消及未來不再開啟樂透\n",
      "作者:Vedan (味丹)\n",
      "時間:Mon Jun 24 15:08:02 2019\n",
      "標題:[公告] 版主上任相關事項 \n",
      "作者:qazwsx879345 (Rajon Rondo)\n",
      "時間:Fri Oct 25 10:44:03 2019\n",
      "標題:[情報] SEASON Schedule 賽程 December 19–20\n",
      "作者:JerroLi (銀色小刀)\n",
      "時間:Fri Nov 29 00:46:01 2019\n",
      "標題:[公告] 是否禁止記者鄭廷瑋文章投票開始\n",
      "作者:dragon803 (好想去露營啊~)\n",
      "時間:Mon Dec 16 18:28:57 2019\n"
     ]
    }
   ],
   "source": [
    "import requests\n",
    "from bs4 import BeautifulSoup\n",
    "import pandas as pd\n",
    "url='https://www.ptt.cc/bbs/NBA/index.html'\n",
    "url1='https://www.ptt.cc/bbs/NBA/index1.html'\n",
    "r=requests.get(url)\n",
    "soup=BeautifulSoup(r.text,\"html5lib\")\n",
    "articles=[]\n",
    "columns=['標題','作者','時間']\n",
    "for i in soup.find_all(class_=\"r-ent\"):\n",
    "    print('標題:'+i.find(class_='title').text.replace('\\n','').replace('\\t',''))\n",
    "    try:\n",
    "        r=BeautifulSoup(requests.get('https://www.ptt.cc'+i.find(class_='title').find('a')['href']).text,\"html5lib\")\n",
    "        print('作者:'+r.find(class_=\"article-meta-value\").text)\n",
    "        print('時間:'+r.find_all(class_=\"article-meta-value\")[-1].text)\n",
    "        articles.append([i.find(class_='title').text.replace('\\n','').replace('\\t',''),r.find(class_=\"article-meta-value\").text,r.find_all(class_=\"article-meta-value\")[-1].text])\n",
    "    except:\n",
    "        continue\n",
    "df=pd.DataFrame(articles,columns=columns)"
   ]
  },
  {
   "cell_type": "code",
   "execution_count": 41,
   "metadata": {},
   "outputs": [
    {
     "data": {
      "text/html": [
       "<div>\n",
       "<style scoped>\n",
       "    .dataframe tbody tr th:only-of-type {\n",
       "        vertical-align: middle;\n",
       "    }\n",
       "\n",
       "    .dataframe tbody tr th {\n",
       "        vertical-align: top;\n",
       "    }\n",
       "\n",
       "    .dataframe thead th {\n",
       "        text-align: right;\n",
       "    }\n",
       "</style>\n",
       "<table border=\"1\" class=\"dataframe\">\n",
       "  <thead>\n",
       "    <tr style=\"text-align: right;\">\n",
       "      <th></th>\n",
       "      <th>標題</th>\n",
       "      <th>作者</th>\n",
       "      <th>時間</th>\n",
       "    </tr>\n",
       "  </thead>\n",
       "  <tbody>\n",
       "    <tr>\n",
       "      <td>10</td>\n",
       "      <td>[花邊] Curry裸照事件上推特熱搜 經紀人堅決否認</td>\n",
       "      <td>whoAU (你是誰？)</td>\n",
       "      <td>Sun Dec 22 17:26:01 2019</td>\n",
       "    </tr>\n",
       "  </tbody>\n",
       "</table>\n",
       "</div>"
      ],
      "text/plain": [
       "                             標題            作者                        時間\n",
       "10  [花邊] Curry裸照事件上推特熱搜 經紀人堅決否認  whoAU (你是誰？)  Sun Dec 22 17:26:01 2019"
      ]
     },
     "execution_count": 41,
     "metadata": {},
     "output_type": "execute_result"
    }
   ],
   "source": [
    "df.sort_values(by=['時間'],ascending=False)[:1]"
   ]
  },
  {
   "cell_type": "markdown",
   "metadata": {},
   "source": [
    "### ② 印出第一頁所有文章的「作者」「標題」「時間」"
   ]
  },
  {
   "cell_type": "code",
   "execution_count": 42,
   "metadata": {},
   "outputs": [
    {
     "name": "stdout",
     "output_type": "stream",
     "text": [
      "標題:[轉錄]Lyotard 對於太陽板討論串的結論\n",
      "作者:Price (Price)\n",
      "時間:Sun May 16 01:54:33 2004\n",
      "標題:[公告] 請停止一切關於本次活動的發言\n",
      "作者:Price (Price)\n",
      "時間:Mon May 24 00:43:00 2004\n",
      "標題:[轉錄]跟之前那篇比起來 我覺得這篇也應該轉過來\n",
      "作者:Frankaze (神采風華)\n",
      "時間:Tue Jun  8 01:16:45 2004\n",
      "標題:[轉錄]再轉一篇好文來\n",
      "作者:Frankaze (神采風華)\n",
      "時間:Tue Jun  8 09:02:23 2004\n",
      "標題:[轉錄][情報] 夏洛特山貓系列\n",
      "作者:Price (Price)\n",
      "時間:Thu Jun 10 00:39:35 2004\n",
      "標題:[轉錄]Re: [心得] 真是受不了糗爺....\n",
      "作者:Price (Price)\n",
      "時間:Thu Jun 10 00:51:35 2004\n",
      "標題:[轉錄]總冠軍賽NO.2觀後感\n",
      "作者:Price (Price)\n",
      "時間:Thu Jun 10 12:05:07 2004\n",
      "標題:[心得] Rasheed Wallace\n",
      "作者:AmuroNamie (原來太嗨真的會失眠^___^)\n",
      "時間:Fri Jun 11 15:06:09 2004\n",
      "標題:掌控球賽的男人\n",
      "作者:toptree (  )\n",
      "時間:Sat Jun 12 07:13:04 2004\n",
      "標題:[閒聊] 說說2004季後賽名場面回顧\n",
      "作者:skchang (3EB板開板囉！)\n",
      "時間:Sat Jun 12 13:21:49 2004\n",
      "標題:[心得] 其實說穿了 就是活塞的防守太可怕了\n",
      "作者:shineup ()\n",
      "時間:Sat Jun 12 13:12:47 2004\n",
      "標題:Re: [閒聊] 說說2004季後賽名場面回顧\n",
      "作者:cOvi (喵~)\n",
      "時間:Sat Jun 12 16:43:07 2004\n",
      "標題:Re: [閒聊] 說說2004季後賽名場面回顧\n",
      "作者:ykshih (￼N￼Ns)\n",
      "時間:Sat Jun 12 17:26:37 2004\n",
      "標題:Re: [閒聊] 說說2004季後賽名場面回顧\n",
      "作者:Frankaze (神采風華)\n",
      "時間:Sat Jun 12 18:34:46 2004\n",
      "標題:[轉錄]Re: 總冠軍賽NO.3觀後感\n",
      "作者:Price (Price)\n",
      "時間:Mon Jun 14 02:18:52 2004\n",
      "標題:[轉錄]Re: 總冠軍賽NO.3觀後感\n",
      "作者:Frankaze (神采風華)\n",
      "時間:Mon Jun 14 02:34:33 2004\n",
      "標題:Re: [轉錄]Re: 總冠軍賽NO.3觀後感\n",
      "作者:star1 (第一次魔術表演不算成功)\n",
      "時間:Mon Jun 14 07:16:30 2004\n",
      "標題:Re: [轉錄]Re: 總冠軍賽NO.3觀後感\n",
      "作者:coldspring (笑笑)\n",
      "時間:Mon Jun 14 09:24:57 2004\n",
      "標題:Re: Kobe is frustrated...\n",
      "作者:airbear (地圖)\n",
      "時間:Mon Jun 14 12:56:14 2004\n",
      "標題:Re: [轉錄]Re: 總冠軍賽NO.3觀後感\n",
      "作者:pennykidd (andre)\n",
      "時間:Mon Jun 14 22:07:01 2004\n"
     ]
    }
   ],
   "source": [
    "r=requests.get(url1)\n",
    "soup=BeautifulSoup(r.text,\"html5lib\")\n",
    "articles=[]\n",
    "columns=['標題','作者','時間']\n",
    "for i in soup.find_all(class_=\"r-ent\"):\n",
    "    print('標題:'+i.find(class_='title').text.replace('\\n','').replace('\\t',''))\n",
    "    try:\n",
    "        r=BeautifulSoup(requests.get('https://www.ptt.cc'+i.find(class_='title').find('a')['href']).text,\"html5lib\")\n",
    "        print('作者:'+r.find(class_=\"article-meta-value\").text)\n",
    "        print('時間:'+r.find_all(class_=\"article-meta-value\")[-1].text)\n",
    "        articles.append([i.find(class_='title').text.replace('\\n','').replace('\\t',''),r.find(class_=\"article-meta-value\").text,r.find_all(class_=\"article-meta-value\")[-1].text])\n",
    "    except:\n",
    "        continue\n",
    "df=pd.DataFrame(articles,columns=columns)"
   ]
  },
  {
   "cell_type": "markdown",
   "metadata": {},
   "source": [
    "### ③ 試著爬爬看其他版的文章"
   ]
  },
  {
   "cell_type": "code",
   "execution_count": 44,
   "metadata": {},
   "outputs": [
    {
     "name": "stdout",
     "output_type": "stream",
     "text": [
      "標題:[新聞] 味全龍未來主場在新竹 竹市透露簽10年\n",
      "作者:EDFR (板橋周子瑜)\n",
      "時間:Sun Dec 22 14:40:59 2019\n",
      "標題:[新聞] 兄弟教頭養成計畫 恰恰未來角色不設限\n",
      "作者:asdf1256 (guest)\n",
      "時間:Sun Dec 22 14:48:28 2019\n",
      "標題:[新聞] 紅襪新秀劉致榮2月赴美　高國輝預測高A、陳偉殷給建議\n",
      "作者:EDFR (板橋周子瑜)\n",
      "時間:Sun Dec 22 15:04:42 2019\n",
      "標題:[新聞] 棒球》一年沒練打 郭泓志今當青棒全壘打\n",
      "作者:hito0509 (永不放棄！！)\n",
      "時間:Sun Dec 22 15:10:31 2019\n",
      "標題:[新聞] 全壘打大賽不敵高中生 劉致榮：漏氣又丟臉\n",
      "作者:acwz7362 (*^O^*)\n",
      "時間:Sun Dec 22 15:11:49 2019\n",
      "標題:[分享] 擔心高雄塵土飛揚 韓國主任直送美國土\n",
      "作者:suzhou (☂☁☁☁☂)\n",
      "時間:Sun Dec 22 15:56:30 2019\n",
      "標題:[新聞] 王建民前隊友給忠告　洋基想奪冠不能只靠\n",
      "作者:go190214 (天空之島拉普達)\n",
      "時間:Sun Dec 22 16:03:50 2019\n",
      "標題:[新聞] 配球發語權全拿 林家正還在摸索\n",
      "作者:hvariables (Speculative Male)\n",
      "時間:Sun Dec 22 16:31:16 2019\n",
      "標題:[新聞] 洋投隊友看好筒香發展 稱非典型日籍打者\n",
      "作者:polanco (polanco)\n",
      "時間:Sun Dec 22 17:26:17 2019\n",
      "標題:[新聞] WZH-你沒看錯！高志綱出席富邦明日之星\n",
      "作者:mongi (大體老屍)\n",
      "時間:Sun Dec 22 17:42:49 2019\n",
      "標題:[閒聊] 電子好球帶，得利的是投手還是野手？\n",
      "作者:sayaka47 (さやか)\n",
      "時間:Sun Dec 22 17:44:47 2019\n",
      "標題:[公告] 板規/即時資訊\n",
      "標題:[整理] 2019棒球賽事轉播節目表\n",
      "作者:johnnyckvs (體育賽事喜好者@912139)\n",
      "時間:Tue Jan  1 00:07:35 2019\n",
      "標題:[公告] 2019轉播心得徵文 延長徵文期限\n",
      "作者:tmlc (樂透精算師)\n",
      "時間:Fri Dec 13 14:53:32 2019\n",
      "標題:[LIVE] 2019年富邦U18明日之星大賽 @ 新莊\n",
      "作者:johnnyckvs (體育賽事喜好者@912139)\n",
      "時間:Sun Dec 22 12:29:11 2019\n"
     ]
    }
   ],
   "source": [
    "url2='https://www.ptt.cc/bbs/Baseball/index.html'\n",
    "r=requests.get(url2)\n",
    "soup=BeautifulSoup(r.text,\"html5lib\")\n",
    "articles=[]\n",
    "columns=['標題','作者','時間']\n",
    "for i in soup.find_all(class_=\"r-ent\"):\n",
    "    print('標題:'+i.find(class_='title').text.replace('\\n','').replace('\\t',''))\n",
    "    try:\n",
    "        r=BeautifulSoup(requests.get('https://www.ptt.cc'+i.find(class_='title').find('a')['href']).text,\"html5lib\")\n",
    "        print('作者:'+r.find(class_=\"article-meta-value\").text)\n",
    "        print('時間:'+r.find_all(class_=\"article-meta-value\")[-1].text)\n",
    "    except:\n",
    "        continue"
   ]
  },
  {
   "cell_type": "code",
   "execution_count": null,
   "metadata": {},
   "outputs": [],
   "source": []
  }
 ],
 "metadata": {
  "kernelspec": {
   "display_name": "Python 3",
   "language": "python",
   "name": "python3"
  },
  "language_info": {
   "codemirror_mode": {
    "name": "ipython",
    "version": 3
   },
   "file_extension": ".py",
   "mimetype": "text/x-python",
   "name": "python",
   "nbconvert_exporter": "python",
   "pygments_lexer": "ipython3",
   "version": "3.7.4"
  }
 },
 "nbformat": 4,
 "nbformat_minor": 2
}
