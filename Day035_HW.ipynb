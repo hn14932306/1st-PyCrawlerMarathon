{
 "cells": [
  {
   "cell_type": "markdown",
   "metadata": {},
   "source": [
    "# 加速：多線程爬蟲\n",
    "\n",
    "\n",
    "\n",
    "* 了解知乎 API 使用方式與回傳內容\n",
    "* 撰寫程式存取 API 且添加標頭"
   ]
  },
  {
   "cell_type": "markdown",
   "metadata": {},
   "source": [
    "## 作業目標\n",
    "\n",
    "* 找一個之前實作過的爬蟲改用多線程改寫，比較前後時間的差異。\n",
    "\n",
    "\n",
    "\n"
   ]
  },
  {
   "cell_type": "code",
   "execution_count": 2,
   "metadata": {},
   "outputs": [
    {
     "name": "stdout",
     "output_type": "stream",
     "text": [
      "標題:[LIVE] Kobe最終戰: 湖人vs爵士 19:00 緯來\n",
      "作者:pttnowash (不用洗)\n",
      "時間:Wed Jan 29 18:30:09 2020\n",
      "標題:[公告] 板規v6.8\n",
      "標題:[公告] 樂透取消及未來不再開啟樂透\n",
      "作者:Vedan (味丹)\n",
      "時間:Mon Jun 24 15:08:02 2019\n",
      "標題:[公告] 版主上任相關事項 \n",
      "作者:qazwsx879345 (Rajon Rondo)\n",
      "時間:Fri Oct 25 10:44:03 2019\n",
      "標題:[情報] SEASON Schedule 賽程 January 19–20\n",
      "作者:Acetoxy (阿斯)\n",
      "時間:Fri Jan  3 01:37:35 2020\n",
      "標題:[公告] 難過區\n",
      "作者:Vedan (味丹)\n",
      "時間:Mon Jan 27 04:08:23 2020\n",
      "7.260440349578857\n"
     ]
    }
   ],
   "source": [
    "import requests\n",
    "from bs4 import BeautifulSoup\n",
    "import pandas as pd\n",
    "import time\n",
    "url='https://www.ptt.cc/bbs/NBA/index.html'\n",
    "url1='https://www.ptt.cc/bbs/NBA/index1.html'\n",
    "r=requests.get(url)\n",
    "soup=BeautifulSoup(r.text,\"html5lib\")\n",
    "articles=[]\n",
    "columns=['標題','作者','時間']\n",
    "urls=[]\n",
    "start_time=time.time()\n",
    "for i in soup.find_all(class_=\"r-ent\"):\n",
    "    print('標題:'+i.find(class_='title').text.replace('\\n','').replace('\\t',''))\n",
    "    try:\n",
    "        r=BeautifulSoup(requests.get('https://www.ptt.cc'+i.find(class_='title').find('a')['href']).text,\"html5lib\")\n",
    "        print('作者:'+r.find(class_=\"article-meta-value\").text)\n",
    "        print('時間:'+r.find_all(class_=\"article-meta-value\")[-1].text)\n",
    "        articles.append([i.find(class_='title').text.replace('\\n','').replace('\\t',''),r.find(class_=\"article-meta-value\").text,r.find_all(class_=\"article-meta-value\")[-1].text])\n",
    "    except:\n",
    "        continue\n",
    "end_time=time.time()\n",
    "print(end_time-start_time)"
   ]
  },
  {
   "cell_type": "code",
   "execution_count": 3,
   "metadata": {},
   "outputs": [
    {
     "name": "stdout",
     "output_type": "stream",
     "text": [
      "標題:[LIVE] Kobe最終戰: 湖人vs爵士 19:00 緯來\n",
      "標題:[公告] 板規v6.8\n",
      "標題:[公告] 樂透取消及未來不再開啟樂透\n",
      "標題:[公告] 版主上任相關事項 \n",
      "標題:[情報] SEASON Schedule 賽程 January 19–20\n",
      "標題:[公告] 難過區\n",
      "5.379125595092773\n"
     ]
    }
   ],
   "source": [
    "import requests\n",
    "from bs4 import BeautifulSoup\n",
    "import pandas as pd\n",
    "import time\n",
    "import _thread\n",
    "url='https://www.ptt.cc/bbs/NBA/index.html'\n",
    "url1='https://www.ptt.cc/bbs/NBA/index1.html'\n",
    "r=requests.get(url)\n",
    "soup=BeautifulSoup(r.text,\"html5lib\")\n",
    "articles=[]\n",
    "columns=['標題','作者','時間']\n",
    "urls=[]\n",
    "start_time=time.time()\n",
    "for i in soup.find_all(class_=\"r-ent\"):\n",
    "    print('標題:'+i.find(class_='title').text.replace('\\n','').replace('\\t',''))\n",
    "    try:\n",
    "        r=_thread.start_new_thread( BeautifulSoup, (requests.get('https://www.ptt.cc'+i.find(class_='title').find('a')['href']).text,\"html5lib\" ) )\n",
    "       # r=BeautifulSoup(requests.get('https://www.ptt.cc'+i.find(class_='title').find('a')['href']).text,\"html5lib\")\n",
    "        print('作者:'+r.find(class_=\"article-meta-value\").text)\n",
    "        print('時間:'+r.find_all(class_=\"article-meta-value\")[-1].text)\n",
    "        articles.append([i.find(class_='title').text.replace('\\n','').replace('\\t',''),r.find(class_=\"article-meta-value\").text,r.find_all(class_=\"article-meta-value\")[-1].text])\n",
    "    except:\n",
    "        continue\n",
    "end_time=time.time()\n",
    "print(end_time-start_time)"
   ]
  },
  {
   "cell_type": "code",
   "execution_count": null,
   "metadata": {},
   "outputs": [],
   "source": []
  }
 ],
 "metadata": {
  "colab": {
   "name": "homework.ipynb",
   "provenance": []
  },
  "kernelspec": {
   "display_name": "Python 3",
   "language": "python",
   "name": "python3"
  },
  "language_info": {
   "codemirror_mode": {
    "name": "ipython",
    "version": 3
   },
   "file_extension": ".py",
   "mimetype": "text/x-python",
   "name": "python",
   "nbconvert_exporter": "python",
   "pygments_lexer": "ipython3",
   "version": "3.7.4"
  }
 },
 "nbformat": 4,
 "nbformat_minor": 1
}
